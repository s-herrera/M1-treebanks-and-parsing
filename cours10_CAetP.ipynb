{
 "cells": [
  {
   "cell_type": "markdown",
   "metadata": {},
   "source": [
    "Corpus arborés et parsing - 2024/25"
   ]
  },
  {
   "cell_type": "code",
   "execution_count": 1,
   "metadata": {},
   "outputs": [
    {
     "name": "stdout",
     "output_type": "stream",
     "text": [
      "/home/santiago/data-backup/misc/M1-treebanks-and-parsing/.venv\n",
      "/home/santiago/data-backup/misc/M1-treebanks-and-parsing/.venv/bin/python\n",
      "/home/santiago/data-backup/misc/M1-treebanks-and-parsing/.venv/bin/pip\n"
     ]
    }
   ],
   "source": [
    "# Checking the environment\n",
    "!echo $VIRTUAL_ENV\n",
    "# and...\n",
    "!which python\n",
    "!which pip"
   ]
  },
  {
   "cell_type": "code",
   "execution_count": 2,
   "metadata": {},
   "outputs": [],
   "source": [
    "# install spacy model\n",
    "# https://spacy.io/usage\n",
    "# %%python3 -m spacy download fr_core_news_sm\n",
    "# ou python au lieu de python3"
   ]
  },
  {
   "cell_type": "code",
   "execution_count": 3,
   "metadata": {},
   "outputs": [
    {
     "data": {
      "text/plain": [
       "['# global.columns = ID FORM LEMMA UPOS XPOS FEATS HEAD DEPREL DEPS MISC\\n',\n",
       " '# sent_id = frwiki_50.1000_00001\\n',\n",
       " '# text = Affaire des caporaux de Souain\\n',\n",
       " '1\\tAffaire\\taffaire\\tNOUN\\t_\\tGender=Fem|Number=Sing\\t0\\troot\\t_\\t_\\n',\n",
       " '2-3\\tdes\\t_\\t_\\t_\\t_\\t_\\t_\\t_\\t_\\n',\n",
       " '2\\tde\\tde\\tADP\\t_\\t_\\t1\\tudep\\t_\\t_\\n',\n",
       " '3\\tles\\tle\\tDET\\t_\\tDefinite=Def|Number=Plur|PronType=Art\\t4\\tdet\\t_\\t_\\n',\n",
       " '4\\tcaporaux\\tcaporal\\tNOUN\\t_\\tGender=Masc|Number=Plur\\t2\\tcomp:obj\\t_\\t_\\n',\n",
       " '5\\tde\\tde\\tADP\\t_\\t_\\t4\\tudep\\t_\\t_\\n',\n",
       " '6\\tSouain\\tSouain\\tPROPN\\t_\\t_\\t5\\tcomp:obj\\t_\\t_\\n',\n",
       " '\\n',\n",
       " '# sent_id = frwiki_50.1000_00002\\n',\n",
       " \"# text = L'affaire des caporaux de Souain, fusillés pour l'exemple, est un des cas parmi les plus flagrants et les plus médiatisés de l'injustice militaire durant la Première Guerre mondiale.\\n\",\n",
       " \"1\\tL'\\tle\\tDET\\t_\\tDefinite=Def|Number=Sing|PronType=Art\\t2\\tdet\\t_\\tSpaceAfter=No\\n\",\n",
       " '2\\taffaire\\taffaire\\tNOUN\\t_\\tGender=Fem|Number=Sing\\t14\\tsubj\\t_\\t_\\n',\n",
       " '3-4\\tdes\\t_\\t_\\t_\\t_\\t_\\t_\\t_\\t_\\n',\n",
       " '3\\tde\\tde\\tADP\\t_\\t_\\t2\\tudep\\t_\\t_\\n',\n",
       " '4\\tles\\tle\\tDET\\t_\\tDefinite=Def|Number=Plur|PronType=Art\\t5\\tdet\\t_\\t_\\n',\n",
       " '5\\tcaporaux\\tcaporal\\tNOUN\\t_\\tGender=Masc|Number=Plur\\t3\\tcomp:obj\\t_\\t_\\n',\n",
       " '6\\tde\\tde\\tADP\\t_\\t_\\t5\\tudep\\t_\\t_\\n']"
      ]
     },
     "execution_count": 3,
     "metadata": {},
     "output_type": "execute_result"
    }
   ],
   "source": [
    "with open(\"frwiki_50.1000.conllu\") as file: #file is a TextIOWrapper object.\n",
    "    data1 = file.readlines() # liste de lignes\n",
    "    #data = file.read() # chaîne de caractères\n",
    "    # for line in file:\n",
    "    #     print(line)\n",
    "\n",
    "data1[:20]\n",
    "# data[-20:]"
   ]
  },
  {
   "cell_type": "markdown",
   "metadata": {},
   "source": [
    "De nombreuses façons de compter les phrases"
   ]
  },
  {
   "cell_type": "code",
   "execution_count": 4,
   "metadata": {},
   "outputs": [
    {
     "name": "stdout",
     "output_type": "stream",
     "text": [
      "n_sentences_A=996\n"
     ]
    }
   ],
   "source": [
    "# Si le conllu est bien formaté, on peut faire\n",
    "n_sentences_A = data1.count(\"\\n\")\n",
    "print(f\"{n_sentences_A=}\")"
   ]
  },
  {
   "cell_type": "code",
   "execution_count": 5,
   "metadata": {},
   "outputs": [
    {
     "name": "stdout",
     "output_type": "stream",
     "text": [
      "n_sentences_B=996\n"
     ]
    }
   ],
   "source": [
    "# Mais ce n'est pas du toujours le cas, alors...\n",
    "n_sentences_B = 0\n",
    "for line in data1:\n",
    "    if line.startswith(\"# sent_id\"):\n",
    "        n_sentences_B += 1\n",
    "print(f\"{n_sentences_B=}\")"
   ]
  },
  {
   "cell_type": "code",
   "execution_count": 6,
   "metadata": {},
   "outputs": [
    {
     "name": "stdout",
     "output_type": "stream",
     "text": [
      "['# sent_id = frwiki_50.1000_00001\\n', '# text = Affaire des caporaux de Souain\\n', '1\\tAffaire\\taffaire\\tNOUN\\t_\\tGender=Fem|Number=Sing\\t0\\troot\\t_\\t_\\n', '2-3\\tdes\\t_\\t_\\t_\\t_\\t_\\t_\\t_\\t_\\n', '2\\tde\\tde\\tADP\\t_\\t_\\t1\\tudep\\t_\\t_\\n', '3\\tles\\tle\\tDET\\t_\\tDefinite=Def|Number=Plur|PronType=Art\\t4\\tdet\\t_\\t_\\n', '4\\tcaporaux\\tcaporal\\tNOUN\\t_\\tGender=Masc|Number=Plur\\t2\\tcomp:obj\\t_\\t_\\n', '5\\tde\\tde\\tADP\\t_\\t_\\t4\\tudep\\t_\\t_\\n', '6\\tSouain\\tSouain\\tPROPN\\t_\\t_\\t5\\tcomp:obj\\t_\\t_\\n']\n",
      "n_sentences_C=996\n"
     ]
    }
   ],
   "source": [
    "# On peut séparer les phrases depuis le début\n",
    "\n",
    "def read_conllu(path):\n",
    "    \"\"\"\n",
    "    Transformer le fichier conllu dans une liste de listes.\n",
    "    Chaque liste est une phrase, chaque élément est une ligne.\n",
    "    \"\"\"\n",
    "    data = []\n",
    "    with open(path, encoding=\"utf-8\") as in_stream:\n",
    "        next(in_stream)\n",
    "        sent = []\n",
    "        for line in in_stream:\n",
    "            if line == \"\\n\":\n",
    "                data.append(sent)\n",
    "                sent = []\n",
    "            else:\n",
    "                sent.append(line)\n",
    "    return data\n",
    "\n",
    "path = \"frwiki_50.1000.conllu\"\n",
    "data2 = read_conllu(path)\n",
    "\n",
    "for lst in data2[:1]:\n",
    "    print(lst)\n",
    "\n",
    "n_sentences_C = len(data2)\n",
    "print(f\"{n_sentences_C=}\")"
   ]
  },
  {
   "cell_type": "code",
   "execution_count": 7,
   "metadata": {},
   "outputs": [],
   "source": [
    "# On peut vérifier les résultats, même si dans ce cas c'est inutile\n",
    "assert  n_sentences_A == n_sentences_B and n_sentences_B == n_sentences_C"
   ]
  },
  {
   "cell_type": "markdown",
   "metadata": {},
   "source": [
    "Un dictionnaire est peut-être la meilleure façon de stocker chaque phrase"
   ]
  },
  {
   "cell_type": "code",
   "execution_count": 8,
   "metadata": {},
   "outputs": [
    {
     "data": {
      "text/plain": [
       "[{'idx': '1',\n",
       "  'form': 'Affaire',\n",
       "  'lemma': 'affaire',\n",
       "  'upos': 'NOUN',\n",
       "  'head': '0',\n",
       "  'deprel': 'root'},\n",
       " {'idx': '2',\n",
       "  'form': 'de',\n",
       "  'lemma': 'de',\n",
       "  'upos': 'ADP',\n",
       "  'head': '1',\n",
       "  'deprel': 'udep'},\n",
       " {'idx': '3',\n",
       "  'form': 'les',\n",
       "  'lemma': 'le',\n",
       "  'upos': 'DET',\n",
       "  'head': '4',\n",
       "  'deprel': 'det'},\n",
       " {'idx': '4',\n",
       "  'form': 'caporaux',\n",
       "  'lemma': 'caporal',\n",
       "  'upos': 'NOUN',\n",
       "  'head': '2',\n",
       "  'deprel': 'comp:obj'},\n",
       " {'idx': '5',\n",
       "  'form': 'de',\n",
       "  'lemma': 'de',\n",
       "  'upos': 'ADP',\n",
       "  'head': '4',\n",
       "  'deprel': 'udep'},\n",
       " {'idx': '6',\n",
       "  'form': 'Souain',\n",
       "  'lemma': 'Souain',\n",
       "  'upos': 'PROPN',\n",
       "  'head': '5',\n",
       "  'deprel': 'comp:obj'}]"
      ]
     },
     "execution_count": 8,
     "metadata": {},
     "output_type": "execute_result"
    }
   ],
   "source": [
    "# D'autres informations importantes, telles que les métadonnées et les caractéristiques, ne sont pas prises en compte.\n",
    "\n",
    "def read_conllu(path) :\n",
    "    \"\"\"\n",
    "    Transformer le fichier conllu dans une liste de liste.\n",
    "    Chaque liste est une phrase, chaque token est un dictionnaire.\n",
    "    Certains informations importantes, telles que les métadonnées et les caractéristiques, ne sont pas prises en compte.\n",
    "    \"\"\"\n",
    "    data = []\n",
    "\n",
    "    with open(path, encoding=\"utf-8\") as in_stream:\n",
    "        sent = []\n",
    "        for line in in_stream:\n",
    "            line = line.strip()\n",
    "            columns = line.split(\"\\t\")\n",
    "\n",
    "            if columns[0].startswith(\"#\"):\n",
    "                continue\n",
    "            if \"-\" in columns[0]:\n",
    "                continue\n",
    "            if columns[0]: # càd, s'il n'est pas vide\n",
    "                sent.append({\n",
    "                    \"idx\" : columns[0],\n",
    "                    \"form\" : columns[1],\n",
    "                    \"lemma\" : columns[2],\n",
    "                    \"upos\" : columns[3],\n",
    "                    \"head\" : columns[6],\n",
    "                    \"deprel\" : columns[7]})\n",
    "            else:\n",
    "                data.append(sent)\n",
    "                sent = []\n",
    "\n",
    "    return data\n",
    "\n",
    "path = \"frwiki_50.1000.conllu\"\n",
    "data = read_conllu(path)\n",
    "data[0]"
   ]
  },
  {
   "cell_type": "markdown",
   "metadata": {},
   "source": [
    "Compter le nombre des tokens et des lemmes"
   ]
  },
  {
   "cell_type": "code",
   "execution_count": 9,
   "metadata": {},
   "outputs": [
    {
     "name": "stdout",
     "output_type": "stream",
     "text": [
      "23127\n"
     ]
    }
   ],
   "source": [
    "# Nombre de tokens\n",
    "n_tokens = 0\n",
    "for sentence in data:\n",
    "    n_tokens += len(sentence)\n",
    "print(n_tokens)"
   ]
  },
  {
   "cell_type": "code",
   "execution_count": 10,
   "metadata": {},
   "outputs": [
    {
     "data": {
      "text/plain": [
       "23.21987951807229"
      ]
     },
     "execution_count": 10,
     "metadata": {},
     "output_type": "execute_result"
    }
   ],
   "source": [
    "# 🚧 Quelle est la longueur moyenne d'une phrase dans le corpus ?\n",
    "n_tokens / len(data)"
   ]
  },
  {
   "cell_type": "code",
   "execution_count": 11,
   "metadata": {},
   "outputs": [
    {
     "name": "stdout",
     "output_type": "stream",
     "text": [
      "len(uniq_tokens)=4583\n"
     ]
    }
   ],
   "source": [
    "# Combien y a-t-il de tokens différents ?\n",
    "uniq_tokens = set()\n",
    "for sentence in data:\n",
    "    for tk in sentence:\n",
    "        uniq_tokens.add(tk['form'])\n",
    "\n",
    "print(f\"{len(uniq_tokens)=}\")"
   ]
  },
  {
   "cell_type": "code",
   "execution_count": 12,
   "metadata": {},
   "outputs": [
    {
     "name": "stdout",
     "output_type": "stream",
     "text": [
      "len(uniq_lemma)=3437\n"
     ]
    }
   ],
   "source": [
    "# Combien y a-t-il de lemmes différents ?\n",
    "uniq_lemma = set()\n",
    "for sentence in data:\n",
    "    for lemma in sentence:\n",
    "        uniq_lemma.add(lemma['lemma'])\n",
    "\n",
    "print(f\"{len(uniq_lemma)=}\")"
   ]
  },
  {
   "cell_type": "code",
   "execution_count": 13,
   "metadata": {},
   "outputs": [
    {
     "name": "stdout",
     "output_type": "stream",
     "text": [
      "len(uniq_lemmas)=3437\n"
     ]
    }
   ],
   "source": [
    "# Combien y a-t-il de lemmes différents ? Réponse avec une liste en compréhension  \n",
    "uniq_lemmas = set([tk['lemma'] for sentence in data for tk in sentence])\n",
    "print(f\"{len(uniq_lemmas)=}\")"
   ]
  },
  {
   "cell_type": "markdown",
   "metadata": {},
   "source": [
    "Maintenant, les compter pour de vrai"
   ]
  },
  {
   "cell_type": "code",
   "execution_count": 14,
   "metadata": {},
   "outputs": [
    {
     "data": {
      "text/plain": [
       "[('le', 2474), ('de', 2048), ('à', 519), ('un', 472), ('et', 387)]"
      ]
     },
     "execution_count": 14,
     "metadata": {},
     "output_type": "execute_result"
    }
   ],
   "source": [
    "# Récupérer la liste de tous tokens\n",
    "\n",
    "lemmas = []\n",
    "for sentence in data:\n",
    "    for tk in sentence:\n",
    "        if tk['upos'] != \"PUNCT\":\n",
    "            lemmas.append(tk['lemma'])\n",
    "\n",
    "# Avec une liste en compréhension  \n",
    "#tokens = [tk['token'] for sentence in data for tk in sentence]\n",
    "\n",
    "counter = dict()\n",
    "for l in lemmas:\n",
    "    if l in counter:\n",
    "        counter[l] += 1\n",
    "    else:\n",
    "        counter[l] = 1\n",
    "\n",
    "# On ordonne le dictionnaire et on obtient une liste de tuples ordonnés\n",
    "sorted_lemmas = sorted(counter.items(), key=lambda item : item[1], reverse=True)\n",
    "sorted_lemmas[:5]"
   ]
  },
  {
   "cell_type": "code",
   "execution_count": 15,
   "metadata": {},
   "outputs": [
    {
     "data": {
      "text/plain": [
       "[('le', 2474), ('de', 2048), ('à', 519), ('un', 472), ('et', 387)]"
      ]
     },
     "execution_count": 15,
     "metadata": {},
     "output_type": "execute_result"
    }
   ],
   "source": [
    "# Avec la meilleure bibliothèque de Python\n",
    "\n",
    "from collections import Counter\n",
    "\n",
    "counter = Counter(lemmas)\n",
    "sorted_lemmas = sorted(counter.items(), key=lambda item : item[1], reverse=True)\n",
    "sorted_lemmas[:5]"
   ]
  },
  {
   "cell_type": "code",
   "execution_count": null,
   "metadata": {},
   "outputs": [],
   "source": [
    "!pip install seaborn"
   ]
  },
  {
   "cell_type": "code",
   "execution_count": 17,
   "metadata": {},
   "outputs": [
    {
     "data": {
      "text/plain": [
       "<Axes: >"
      ]
     },
     "execution_count": 17,
     "metadata": {},
     "output_type": "execute_result"
    },
    {
     "data": {
      "image/png": "[encoded data removed]",
      "text/plain": [
       "<Figure size 640x480 with 1 Axes>"
      ]
     },
     "metadata": {},
     "output_type": "display_data"
    }
   ],
   "source": [
    "import seaborn as sns\n",
    "\n",
    "freq = []\n",
    "labels = []\n",
    "for lemma in sorted_lemmas[:20]:\n",
    "    freq.append(lemma[0])\n",
    "    labels.append(lemma[1])\n",
    "\n",
    "sns.barplot(x=freq, y=labels)"
   ]
  },
  {
   "cell_type": "code",
   "execution_count": 18,
   "metadata": {},
   "outputs": [],
   "source": [
    "# Représentez graphiquement tous les noms et leur fréquence avec un barplot\n",
    "# À vous"
   ]
  },
  {
   "cell_type": "code",
   "execution_count": null,
   "metadata": {},
   "outputs": [],
   "source": [
    "# Représentez la distribution de partie du discours avec un barplot\n",
    "# À vous"
   ]
  },
  {
   "cell_type": "code",
   "execution_count": 19,
   "metadata": {},
   "outputs": [],
   "source": [
    "# Combien y a-t-il des adjectifs avant et après leur nom?\n",
    "\n",
    "adj_position = {\"before\" : 0, \"after\": 0}\n",
    "\n",
    "# for sentence in data:\n",
    "#     for token_i in sentence:\n",
    "#         if token_i['upos'] == \"NOUN\":\n",
    "#             for token_j in sentence:\n",
    "                # À compléter, réponse en bas..."
   ]
  },
  {
   "cell_type": "code",
   "execution_count": 20,
   "metadata": {},
   "outputs": [
    {
     "data": {
      "text/plain": [
       "<Axes: >"
      ]
     },
     "execution_count": 20,
     "metadata": {},
     "output_type": "execute_result"
    },
    {
     "data": {
      "image/png": "[encoded data removed]",
      "text/plain": [
       "<Figure size 640x480 with 1 Axes>"
      ]
     },
     "metadata": {},
     "output_type": "display_data"
    }
   ],
   "source": [
    "adj_position = {\"before\" : 0, \"after\": 0}\n",
    "\n",
    "for sentence in data:\n",
    "    for token_i in sentence:\n",
    "        if token_i['upos'] == \"NOUN\":\n",
    "            for token_j in sentence:\n",
    "                if token_j['head'] == token_i['idx'] and token_j['upos'] == \"ADJ\":\n",
    "                    if int(token_i['idx']) < int(token_j['idx']):\n",
    "                        adj_position['after'] += 1\n",
    "                    else:\n",
    "                        adj_position['before'] += 1\n",
    "\n",
    "sns.barplot(adj_position)"
   ]
  },
  {
   "cell_type": "markdown",
   "metadata": {},
   "source": [
    "Et si je veux tagger et analyser syntaxiquement un texte ?"
   ]
  },
  {
   "cell_type": "code",
   "execution_count": 29,
   "metadata": {},
   "outputs": [
    {
     "data": {
      "text/plain": [
       "['Alors que la ville de Hamelin est envahie par les rats et que les habitants meurent de faim, un joueur de flûte inconnu arrive dans la ville et se présente comme un dératiseur',\n",
       " \"Le maire de Hamelin promet au joueur de flûte une prime de mille écus pour débarrasser la commune des rats qui l'infestent\",\n",
       " \"L'homme prend sa flûte et, par sa musique, attire les rats qui le suivent jusqu'à la Weser, la rivière qui arrose la ville, où ils se noient\"]"
      ]
     },
     "execution_count": 29,
     "metadata": {},
     "output_type": "execute_result"
    }
   ],
   "source": [
    "# Tokenisation très naive\n",
    "with open(\"conte.txt\", encoding=\"utf-8\") as file:\n",
    "    text = file.read()\n",
    "sentences = [sent.strip() for sent in text.split(\".\")]\n",
    "sentences[:3]"
   ]
  },
  {
   "cell_type": "code",
   "execution_count": 30,
   "metadata": {},
   "outputs": [],
   "source": [
    "import spacy\n",
    "from spacy import displacy\n",
    "nlp = spacy.load(\"fr_core_news_sm\")"
   ]
  },
  {
   "cell_type": "code",
   "execution_count": 32,
   "metadata": {},
   "outputs": [
    {
     "name": "stdout",
     "output_type": "stream",
     "text": [
      "Le DET\n",
      "maire NOUN\n",
      "de ADP\n",
      "Hamelin PROPN\n",
      "promet VERB\n",
      "au ADP\n",
      "joueur NOUN\n",
      "de ADP\n",
      "flûte NOUN\n",
      "une DET\n",
      "prime NOUN\n",
      "de ADP\n",
      "mille NUM\n",
      "écus NOUN\n",
      "pour ADP\n",
      "débarrasser VERB\n",
      "la DET\n",
      "commune NOUN\n",
      "des ADP\n",
      "rats NOUN\n",
      "qui PRON\n",
      "l' DET\n",
      "infestent ADV\n"
     ]
    }
   ],
   "source": [
    "sent = sentences[1]\n",
    "doc = nlp(sent)\n",
    "\n",
    "for token in doc:\n",
    "    print(token.text, token.pos_) # token.morph, token.lemma_, token.dep_\n",
    "# upos = [(token.text, token.pos_) for token in doc]\n",
    "# print(upos)"
   ]
  },
  {
   "cell_type": "code",
   "execution_count": 33,
   "metadata": {},
   "outputs": [],
   "source": [
    "#dir(doc)"
   ]
  },
  {
   "cell_type": "code",
   "execution_count": 34,
   "metadata": {},
   "outputs": [
    {
     "name": "stdout",
     "output_type": "stream",
     "text": [
      "token : Le\t deprel : det\t token_head : maire\n",
      "token : maire\t deprel : nsubj\t token_head : promet\n",
      "token : de\t deprel : case\t token_head : Hamelin\n",
      "token : Hamelin\t deprel : nmod\t token_head : maire\n",
      "token : promet\t deprel : ROOT\t token_head : promet\n",
      "token : au\t deprel : case\t token_head : joueur\n",
      "token : joueur\t deprel : obl:arg\t token_head : promet\n",
      "token : de\t deprel : case\t token_head : flûte\n",
      "token : flûte\t deprel : nmod\t token_head : joueur\n",
      "token : une\t deprel : det\t token_head : prime\n",
      "token : prime\t deprel : obj\t token_head : promet\n",
      "token : de\t deprel : case\t token_head : écus\n",
      "token : mille\t deprel : nummod\t token_head : écus\n",
      "token : écus\t deprel : nmod\t token_head : prime\n",
      "token : pour\t deprel : mark\t token_head : débarrasser\n",
      "token : débarrasser\t deprel : advcl\t token_head : écus\n",
      "token : la\t deprel : det\t token_head : commune\n",
      "token : commune\t deprel : obj\t token_head : débarrasser\n",
      "token : des\t deprel : case\t token_head : rats\n",
      "token : rats\t deprel : nmod\t token_head : commune\n",
      "token : qui\t deprel : nsubj\t token_head : infestent\n",
      "token : l'\t deprel : obj\t token_head : infestent\n",
      "token : infestent\t deprel : acl:relcl\t token_head : rats\n"
     ]
    }
   ],
   "source": [
    "for token in doc:\n",
    "    print(f\"token : {token.text}\\t deprel : {token.dep_}\\t token_head : {token.head.text}\")"
   ]
  },
  {
   "cell_type": "code",
   "execution_count": 35,
   "metadata": {},
   "outputs": [
    {
     "name": "stdout",
     "output_type": "stream",
     "text": [
      "{promet}\n"
     ]
    }
   ],
   "source": [
    "# Trouver un verbe avec un sujet    \n",
    "verbs = set()\n",
    "for possible_subject in doc:\n",
    "    if possible_subject.dep_ == \"nsubj\" and possible_subject.head.pos_ == \"VERB\":\n",
    "        verbs.add(possible_subject.head)\n",
    "        \n",
    "print(verbs)"
   ]
  },
  {
   "cell_type": "code",
   "execution_count": 36,
   "metadata": {},
   "outputs": [
    {
     "data": {
      "text/html": [
       "<span class=\"tex2jax_ignore\"><svg xmlns=\"http://www.w3.org/2000/svg\" xmlns:xlink=\"http://www.w3.org/1999/xlink\" xml:lang=\"fr\" id=\"a3cdcd13f1114c4abfe99b0dfa9ec0ce-0\" class=\"displacy\" width=\"4075\" height=\"399.5\" direction=\"ltr\" style=\"max-width: none; height: 399.5px; color: #000000; background: #ffffff; font-family: Arial; direction: ltr\">\n",
       "<text class=\"displacy-token\" fill=\"currentColor\" text-anchor=\"middle\" y=\"309.5\">\n",
       "    <tspan class=\"displacy-word\" fill=\"currentColor\" x=\"50\">Le</tspan>\n",
       "    <tspan class=\"displacy-tag\" dy=\"2em\" fill=\"currentColor\" x=\"50\">DET</tspan>\n",
       "</text>\n",
       "\n",
       "<text class=\"displacy-token\" fill=\"currentColor\" text-anchor=\"middle\" y=\"309.5\">\n",
       "    <tspan class=\"displacy-word\" fill=\"currentColor\" x=\"225\">maire</tspan>\n",
       "    <tspan class=\"displacy-tag\" dy=\"2em\" fill=\"currentColor\" x=\"225\">NOUN</tspan>\n",
       "</text>\n",
       "\n",
       "<text class=\"displacy-token\" fill=\"currentColor\" text-anchor=\"middle\" y=\"309.5\">\n",
       "    <tspan class=\"displacy-word\" fill=\"currentColor\" x=\"400\">de</tspan>\n",
       "    <tspan class=\"displacy-tag\" dy=\"2em\" fill=\"currentColor\" x=\"400\">ADP</tspan>\n",
       "</text>\n",
       "\n",
       "<text class=\"displacy-token\" fill=\"currentColor\" text-anchor=\"middle\" y=\"309.5\">\n",
       "    <tspan class=\"displacy-word\" fill=\"currentColor\" x=\"575\">Hamelin</tspan>\n",
       "    <tspan class=\"displacy-tag\" dy=\"2em\" fill=\"currentColor\" x=\"575\">PROPN</tspan>\n",
       "</text>\n",
       "\n",
       "<text class=\"displacy-token\" fill=\"currentColor\" text-anchor=\"middle\" y=\"309.5\">\n",
       "    <tspan class=\"displacy-word\" fill=\"currentColor\" x=\"750\">promet</tspan>\n",
       "    <tspan class=\"displacy-tag\" dy=\"2em\" fill=\"currentColor\" x=\"750\">VERB</tspan>\n",
       "</text>\n",
       "\n",
       "<text class=\"displacy-token\" fill=\"currentColor\" text-anchor=\"middle\" y=\"309.5\">\n",
       "    <tspan class=\"displacy-word\" fill=\"currentColor\" x=\"925\">au</tspan>\n",
       "    <tspan class=\"displacy-tag\" dy=\"2em\" fill=\"currentColor\" x=\"925\">ADP</tspan>\n",
       "</text>\n",
       "\n",
       "<text class=\"displacy-token\" fill=\"currentColor\" text-anchor=\"middle\" y=\"309.5\">\n",
       "    <tspan class=\"displacy-word\" fill=\"currentColor\" x=\"1100\">joueur</tspan>\n",
       "    <tspan class=\"displacy-tag\" dy=\"2em\" fill=\"currentColor\" x=\"1100\">NOUN</tspan>\n",
       "</text>\n",
       "\n",
       "<text class=\"displacy-token\" fill=\"currentColor\" text-anchor=\"middle\" y=\"309.5\">\n",
       "    <tspan class=\"displacy-word\" fill=\"currentColor\" x=\"1275\">de</tspan>\n",
       "    <tspan class=\"displacy-tag\" dy=\"2em\" fill=\"currentColor\" x=\"1275\">ADP</tspan>\n",
       "</text>\n",
       "\n",
       "<text class=\"displacy-token\" fill=\"currentColor\" text-anchor=\"middle\" y=\"309.5\">\n",
       "    <tspan class=\"displacy-word\" fill=\"currentColor\" x=\"1450\">flûte</tspan>\n",
       "    <tspan class=\"displacy-tag\" dy=\"2em\" fill=\"currentColor\" x=\"1450\">NOUN</tspan>\n",
       "</text>\n",
       "\n",
       "<text class=\"displacy-token\" fill=\"currentColor\" text-anchor=\"middle\" y=\"309.5\">\n",
       "    <tspan class=\"displacy-word\" fill=\"currentColor\" x=\"1625\">une</tspan>\n",
       "    <tspan class=\"displacy-tag\" dy=\"2em\" fill=\"currentColor\" x=\"1625\">DET</tspan>\n",
       "</text>\n",
       "\n",
       "<text class=\"displacy-token\" fill=\"currentColor\" text-anchor=\"middle\" y=\"309.5\">\n",
       "    <tspan class=\"displacy-word\" fill=\"currentColor\" x=\"1800\">prime</tspan>\n",
       "    <tspan class=\"displacy-tag\" dy=\"2em\" fill=\"currentColor\" x=\"1800\">NOUN</tspan>\n",
       "</text>\n",
       "\n",
       "<text class=\"displacy-token\" fill=\"currentColor\" text-anchor=\"middle\" y=\"309.5\">\n",
       "    <tspan class=\"displacy-word\" fill=\"currentColor\" x=\"1975\">de</tspan>\n",
       "    <tspan class=\"displacy-tag\" dy=\"2em\" fill=\"currentColor\" x=\"1975\">ADP</tspan>\n",
       "</text>\n",
       "\n",
       "<text class=\"displacy-token\" fill=\"currentColor\" text-anchor=\"middle\" y=\"309.5\">\n",
       "    <tspan class=\"displacy-word\" fill=\"currentColor\" x=\"2150\">mille</tspan>\n",
       "    <tspan class=\"displacy-tag\" dy=\"2em\" fill=\"currentColor\" x=\"2150\">NUM</tspan>\n",
       "</text>\n",
       "\n",
       "<text class=\"displacy-token\" fill=\"currentColor\" text-anchor=\"middle\" y=\"309.5\">\n",
       "    <tspan class=\"displacy-word\" fill=\"currentColor\" x=\"2325\">écus</tspan>\n",
       "    <tspan class=\"displacy-tag\" dy=\"2em\" fill=\"currentColor\" x=\"2325\">NOUN</tspan>\n",
       "</text>\n",
       "\n",
       "<text class=\"displacy-token\" fill=\"currentColor\" text-anchor=\"middle\" y=\"309.5\">\n",
       "    <tspan class=\"displacy-word\" fill=\"currentColor\" x=\"2500\">pour</tspan>\n",
       "    <tspan class=\"displacy-tag\" dy=\"2em\" fill=\"currentColor\" x=\"2500\">ADP</tspan>\n",
       "</text>\n",
       "\n",
       "<text class=\"displacy-token\" fill=\"currentColor\" text-anchor=\"middle\" y=\"309.5\">\n",
       "    <tspan class=\"displacy-word\" fill=\"currentColor\" x=\"2675\">débarrasser</tspan>\n",
       "    <tspan class=\"displacy-tag\" dy=\"2em\" fill=\"currentColor\" x=\"2675\">VERB</tspan>\n",
       "</text>\n",
       "\n",
       "<text class=\"displacy-token\" fill=\"currentColor\" text-anchor=\"middle\" y=\"309.5\">\n",
       "    <tspan class=\"displacy-word\" fill=\"currentColor\" x=\"2850\">la</tspan>\n",
       "    <tspan class=\"displacy-tag\" dy=\"2em\" fill=\"currentColor\" x=\"2850\">DET</tspan>\n",
       "</text>\n",
       "\n",
       "<text class=\"displacy-token\" fill=\"currentColor\" text-anchor=\"middle\" y=\"309.5\">\n",
       "    <tspan class=\"displacy-word\" fill=\"currentColor\" x=\"3025\">commune</tspan>\n",
       "    <tspan class=\"displacy-tag\" dy=\"2em\" fill=\"currentColor\" x=\"3025\">NOUN</tspan>\n",
       "</text>\n",
       "\n",
       "<text class=\"displacy-token\" fill=\"currentColor\" text-anchor=\"middle\" y=\"309.5\">\n",
       "    <tspan class=\"displacy-word\" fill=\"currentColor\" x=\"3200\">des</tspan>\n",
       "    <tspan class=\"displacy-tag\" dy=\"2em\" fill=\"currentColor\" x=\"3200\">ADP</tspan>\n",
       "</text>\n",
       "\n",
       "<text class=\"displacy-token\" fill=\"currentColor\" text-anchor=\"middle\" y=\"309.5\">\n",
       "    <tspan class=\"displacy-word\" fill=\"currentColor\" x=\"3375\">rats</tspan>\n",
       "    <tspan class=\"displacy-tag\" dy=\"2em\" fill=\"currentColor\" x=\"3375\">NOUN</tspan>\n",
       "</text>\n",
       "\n",
       "<text class=\"displacy-token\" fill=\"currentColor\" text-anchor=\"middle\" y=\"309.5\">\n",
       "    <tspan class=\"displacy-word\" fill=\"currentColor\" x=\"3550\">qui</tspan>\n",
       "    <tspan class=\"displacy-tag\" dy=\"2em\" fill=\"currentColor\" x=\"3550\">PRON</tspan>\n",
       "</text>\n",
       "\n",
       "<text class=\"displacy-token\" fill=\"currentColor\" text-anchor=\"middle\" y=\"309.5\">\n",
       "    <tspan class=\"displacy-word\" fill=\"currentColor\" x=\"3725\">l'</tspan>\n",
       "    <tspan class=\"displacy-tag\" dy=\"2em\" fill=\"currentColor\" x=\"3725\">DET</tspan>\n",
       "</text>\n",
       "\n",
       "<text class=\"displacy-token\" fill=\"currentColor\" text-anchor=\"middle\" y=\"309.5\">\n",
       "    <tspan class=\"displacy-word\" fill=\"currentColor\" x=\"3900\">infestent</tspan>\n",
       "    <tspan class=\"displacy-tag\" dy=\"2em\" fill=\"currentColor\" x=\"3900\">ADV</tspan>\n",
       "</text>\n",
       "\n",
       "<g class=\"displacy-arrow\">\n",
       "    <path class=\"displacy-arc\" id=\"arrow-a3cdcd13f1114c4abfe99b0dfa9ec0ce-0-0\" stroke-width=\"2px\" d=\"M70,264.5 C70,177.0 215.0,177.0 215.0,264.5\" fill=\"none\" stroke=\"currentColor\"/>\n",
       "    <text dy=\"1.25em\" style=\"font-size: 0.8em; letter-spacing: 1px\">\n",
       "        <textPath xlink:href=\"#arrow-a3cdcd13f1114c4abfe99b0dfa9ec0ce-0-0\" class=\"displacy-label\" startOffset=\"50%\" side=\"left\" fill=\"currentColor\" text-anchor=\"middle\">det</textPath>\n",
       "    </text>\n",
       "    <path class=\"displacy-arrowhead\" d=\"M70,266.5 L62,254.5 78,254.5\" fill=\"currentColor\"/>\n",
       "</g>\n",
       "\n",
       "<g class=\"displacy-arrow\">\n",
       "    <path class=\"displacy-arc\" id=\"arrow-a3cdcd13f1114c4abfe99b0dfa9ec0ce-0-1\" stroke-width=\"2px\" d=\"M245,264.5 C245,2.0 750.0,2.0 750.0,264.5\" fill=\"none\" stroke=\"currentColor\"/>\n",
       "    <text dy=\"1.25em\" style=\"font-size: 0.8em; letter-spacing: 1px\">\n",
       "        <textPath xlink:href=\"#arrow-a3cdcd13f1114c4abfe99b0dfa9ec0ce-0-1\" class=\"displacy-label\" startOffset=\"50%\" side=\"left\" fill=\"currentColor\" text-anchor=\"middle\">nsubj</textPath>\n",
       "    </text>\n",
       "    <path class=\"displacy-arrowhead\" d=\"M245,266.5 L237,254.5 253,254.5\" fill=\"currentColor\"/>\n",
       "</g>\n",
       "\n",
       "<g class=\"displacy-arrow\">\n",
       "    <path class=\"displacy-arc\" id=\"arrow-a3cdcd13f1114c4abfe99b0dfa9ec0ce-0-2\" stroke-width=\"2px\" d=\"M420,264.5 C420,177.0 565.0,177.0 565.0,264.5\" fill=\"none\" stroke=\"currentColor\"/>\n",
       "    <text dy=\"1.25em\" style=\"font-size: 0.8em; letter-spacing: 1px\">\n",
       "        <textPath xlink:href=\"#arrow-a3cdcd13f1114c4abfe99b0dfa9ec0ce-0-2\" class=\"displacy-label\" startOffset=\"50%\" side=\"left\" fill=\"currentColor\" text-anchor=\"middle\">case</textPath>\n",
       "    </text>\n",
       "    <path class=\"displacy-arrowhead\" d=\"M420,266.5 L412,254.5 428,254.5\" fill=\"currentColor\"/>\n",
       "</g>\n",
       "\n",
       "<g class=\"displacy-arrow\">\n",
       "    <path class=\"displacy-arc\" id=\"arrow-a3cdcd13f1114c4abfe99b0dfa9ec0ce-0-3\" stroke-width=\"2px\" d=\"M245,264.5 C245,89.5 570.0,89.5 570.0,264.5\" fill=\"none\" stroke=\"currentColor\"/>\n",
       "    <text dy=\"1.25em\" style=\"font-size: 0.8em; letter-spacing: 1px\">\n",
       "        <textPath xlink:href=\"#arrow-a3cdcd13f1114c4abfe99b0dfa9ec0ce-0-3\" class=\"displacy-label\" startOffset=\"50%\" side=\"left\" fill=\"currentColor\" text-anchor=\"middle\">nmod</textPath>\n",
       "    </text>\n",
       "    <path class=\"displacy-arrowhead\" d=\"M570.0,266.5 L578.0,254.5 562.0,254.5\" fill=\"currentColor\"/>\n",
       "</g>\n",
       "\n",
       "<g class=\"displacy-arrow\">\n",
       "    <path class=\"displacy-arc\" id=\"arrow-a3cdcd13f1114c4abfe99b0dfa9ec0ce-0-4\" stroke-width=\"2px\" d=\"M945,264.5 C945,177.0 1090.0,177.0 1090.0,264.5\" fill=\"none\" stroke=\"currentColor\"/>\n",
       "    <text dy=\"1.25em\" style=\"font-size: 0.8em; letter-spacing: 1px\">\n",
       "        <textPath xlink:href=\"#arrow-a3cdcd13f1114c4abfe99b0dfa9ec0ce-0-4\" class=\"displacy-label\" startOffset=\"50%\" side=\"left\" fill=\"currentColor\" text-anchor=\"middle\">case</textPath>\n",
       "    </text>\n",
       "    <path class=\"displacy-arrowhead\" d=\"M945,266.5 L937,254.5 953,254.5\" fill=\"currentColor\"/>\n",
       "</g>\n",
       "\n",
       "<g class=\"displacy-arrow\">\n",
       "    <path class=\"displacy-arc\" id=\"arrow-a3cdcd13f1114c4abfe99b0dfa9ec0ce-0-5\" stroke-width=\"2px\" d=\"M770,264.5 C770,89.5 1095.0,89.5 1095.0,264.5\" fill=\"none\" stroke=\"currentColor\"/>\n",
       "    <text dy=\"1.25em\" style=\"font-size: 0.8em; letter-spacing: 1px\">\n",
       "        <textPath xlink:href=\"#arrow-a3cdcd13f1114c4abfe99b0dfa9ec0ce-0-5\" class=\"displacy-label\" startOffset=\"50%\" side=\"left\" fill=\"currentColor\" text-anchor=\"middle\">obl:arg</textPath>\n",
       "    </text>\n",
       "    <path class=\"displacy-arrowhead\" d=\"M1095.0,266.5 L1103.0,254.5 1087.0,254.5\" fill=\"currentColor\"/>\n",
       "</g>\n",
       "\n",
       "<g class=\"displacy-arrow\">\n",
       "    <path class=\"displacy-arc\" id=\"arrow-a3cdcd13f1114c4abfe99b0dfa9ec0ce-0-6\" stroke-width=\"2px\" d=\"M1295,264.5 C1295,177.0 1440.0,177.0 1440.0,264.5\" fill=\"none\" stroke=\"currentColor\"/>\n",
       "    <text dy=\"1.25em\" style=\"font-size: 0.8em; letter-spacing: 1px\">\n",
       "        <textPath xlink:href=\"#arrow-a3cdcd13f1114c4abfe99b0dfa9ec0ce-0-6\" class=\"displacy-label\" startOffset=\"50%\" side=\"left\" fill=\"currentColor\" text-anchor=\"middle\">case</textPath>\n",
       "    </text>\n",
       "    <path class=\"displacy-arrowhead\" d=\"M1295,266.5 L1287,254.5 1303,254.5\" fill=\"currentColor\"/>\n",
       "</g>\n",
       "\n",
       "<g class=\"displacy-arrow\">\n",
       "    <path class=\"displacy-arc\" id=\"arrow-a3cdcd13f1114c4abfe99b0dfa9ec0ce-0-7\" stroke-width=\"2px\" d=\"M1120,264.5 C1120,89.5 1445.0,89.5 1445.0,264.5\" fill=\"none\" stroke=\"currentColor\"/>\n",
       "    <text dy=\"1.25em\" style=\"font-size: 0.8em; letter-spacing: 1px\">\n",
       "        <textPath xlink:href=\"#arrow-a3cdcd13f1114c4abfe99b0dfa9ec0ce-0-7\" class=\"displacy-label\" startOffset=\"50%\" side=\"left\" fill=\"currentColor\" text-anchor=\"middle\">nmod</textPath>\n",
       "    </text>\n",
       "    <path class=\"displacy-arrowhead\" d=\"M1445.0,266.5 L1453.0,254.5 1437.0,254.5\" fill=\"currentColor\"/>\n",
       "</g>\n",
       "\n",
       "<g class=\"displacy-arrow\">\n",
       "    <path class=\"displacy-arc\" id=\"arrow-a3cdcd13f1114c4abfe99b0dfa9ec0ce-0-8\" stroke-width=\"2px\" d=\"M1645,264.5 C1645,177.0 1790.0,177.0 1790.0,264.5\" fill=\"none\" stroke=\"currentColor\"/>\n",
       "    <text dy=\"1.25em\" style=\"font-size: 0.8em; letter-spacing: 1px\">\n",
       "        <textPath xlink:href=\"#arrow-a3cdcd13f1114c4abfe99b0dfa9ec0ce-0-8\" class=\"displacy-label\" startOffset=\"50%\" side=\"left\" fill=\"currentColor\" text-anchor=\"middle\">det</textPath>\n",
       "    </text>\n",
       "    <path class=\"displacy-arrowhead\" d=\"M1645,266.5 L1637,254.5 1653,254.5\" fill=\"currentColor\"/>\n",
       "</g>\n",
       "\n",
       "<g class=\"displacy-arrow\">\n",
       "    <path class=\"displacy-arc\" id=\"arrow-a3cdcd13f1114c4abfe99b0dfa9ec0ce-0-9\" stroke-width=\"2px\" d=\"M770,264.5 C770,2.0 1800.0,2.0 1800.0,264.5\" fill=\"none\" stroke=\"currentColor\"/>\n",
       "    <text dy=\"1.25em\" style=\"font-size: 0.8em; letter-spacing: 1px\">\n",
       "        <textPath xlink:href=\"#arrow-a3cdcd13f1114c4abfe99b0dfa9ec0ce-0-9\" class=\"displacy-label\" startOffset=\"50%\" side=\"left\" fill=\"currentColor\" text-anchor=\"middle\">obj</textPath>\n",
       "    </text>\n",
       "    <path class=\"displacy-arrowhead\" d=\"M1800.0,266.5 L1808.0,254.5 1792.0,254.5\" fill=\"currentColor\"/>\n",
       "</g>\n",
       "\n",
       "<g class=\"displacy-arrow\">\n",
       "    <path class=\"displacy-arc\" id=\"arrow-a3cdcd13f1114c4abfe99b0dfa9ec0ce-0-10\" stroke-width=\"2px\" d=\"M1995,264.5 C1995,89.5 2320.0,89.5 2320.0,264.5\" fill=\"none\" stroke=\"currentColor\"/>\n",
       "    <text dy=\"1.25em\" style=\"font-size: 0.8em; letter-spacing: 1px\">\n",
       "        <textPath xlink:href=\"#arrow-a3cdcd13f1114c4abfe99b0dfa9ec0ce-0-10\" class=\"displacy-label\" startOffset=\"50%\" side=\"left\" fill=\"currentColor\" text-anchor=\"middle\">case</textPath>\n",
       "    </text>\n",
       "    <path class=\"displacy-arrowhead\" d=\"M1995,266.5 L1987,254.5 2003,254.5\" fill=\"currentColor\"/>\n",
       "</g>\n",
       "\n",
       "<g class=\"displacy-arrow\">\n",
       "    <path class=\"displacy-arc\" id=\"arrow-a3cdcd13f1114c4abfe99b0dfa9ec0ce-0-11\" stroke-width=\"2px\" d=\"M2170,264.5 C2170,177.0 2315.0,177.0 2315.0,264.5\" fill=\"none\" stroke=\"currentColor\"/>\n",
       "    <text dy=\"1.25em\" style=\"font-size: 0.8em; letter-spacing: 1px\">\n",
       "        <textPath xlink:href=\"#arrow-a3cdcd13f1114c4abfe99b0dfa9ec0ce-0-11\" class=\"displacy-label\" startOffset=\"50%\" side=\"left\" fill=\"currentColor\" text-anchor=\"middle\">nummod</textPath>\n",
       "    </text>\n",
       "    <path class=\"displacy-arrowhead\" d=\"M2170,266.5 L2162,254.5 2178,254.5\" fill=\"currentColor\"/>\n",
       "</g>\n",
       "\n",
       "<g class=\"displacy-arrow\">\n",
       "    <path class=\"displacy-arc\" id=\"arrow-a3cdcd13f1114c4abfe99b0dfa9ec0ce-0-12\" stroke-width=\"2px\" d=\"M1820,264.5 C1820,2.0 2325.0,2.0 2325.0,264.5\" fill=\"none\" stroke=\"currentColor\"/>\n",
       "    <text dy=\"1.25em\" style=\"font-size: 0.8em; letter-spacing: 1px\">\n",
       "        <textPath xlink:href=\"#arrow-a3cdcd13f1114c4abfe99b0dfa9ec0ce-0-12\" class=\"displacy-label\" startOffset=\"50%\" side=\"left\" fill=\"currentColor\" text-anchor=\"middle\">nmod</textPath>\n",
       "    </text>\n",
       "    <path class=\"displacy-arrowhead\" d=\"M2325.0,266.5 L2333.0,254.5 2317.0,254.5\" fill=\"currentColor\"/>\n",
       "</g>\n",
       "\n",
       "<g class=\"displacy-arrow\">\n",
       "    <path class=\"displacy-arc\" id=\"arrow-a3cdcd13f1114c4abfe99b0dfa9ec0ce-0-13\" stroke-width=\"2px\" d=\"M2520,264.5 C2520,177.0 2665.0,177.0 2665.0,264.5\" fill=\"none\" stroke=\"currentColor\"/>\n",
       "    <text dy=\"1.25em\" style=\"font-size: 0.8em; letter-spacing: 1px\">\n",
       "        <textPath xlink:href=\"#arrow-a3cdcd13f1114c4abfe99b0dfa9ec0ce-0-13\" class=\"displacy-label\" startOffset=\"50%\" side=\"left\" fill=\"currentColor\" text-anchor=\"middle\">mark</textPath>\n",
       "    </text>\n",
       "    <path class=\"displacy-arrowhead\" d=\"M2520,266.5 L2512,254.5 2528,254.5\" fill=\"currentColor\"/>\n",
       "</g>\n",
       "\n",
       "<g class=\"displacy-arrow\">\n",
       "    <path class=\"displacy-arc\" id=\"arrow-a3cdcd13f1114c4abfe99b0dfa9ec0ce-0-14\" stroke-width=\"2px\" d=\"M2345,264.5 C2345,89.5 2670.0,89.5 2670.0,264.5\" fill=\"none\" stroke=\"currentColor\"/>\n",
       "    <text dy=\"1.25em\" style=\"font-size: 0.8em; letter-spacing: 1px\">\n",
       "        <textPath xlink:href=\"#arrow-a3cdcd13f1114c4abfe99b0dfa9ec0ce-0-14\" class=\"displacy-label\" startOffset=\"50%\" side=\"left\" fill=\"currentColor\" text-anchor=\"middle\">advcl</textPath>\n",
       "    </text>\n",
       "    <path class=\"displacy-arrowhead\" d=\"M2670.0,266.5 L2678.0,254.5 2662.0,254.5\" fill=\"currentColor\"/>\n",
       "</g>\n",
       "\n",
       "<g class=\"displacy-arrow\">\n",
       "    <path class=\"displacy-arc\" id=\"arrow-a3cdcd13f1114c4abfe99b0dfa9ec0ce-0-15\" stroke-width=\"2px\" d=\"M2870,264.5 C2870,177.0 3015.0,177.0 3015.0,264.5\" fill=\"none\" stroke=\"currentColor\"/>\n",
       "    <text dy=\"1.25em\" style=\"font-size: 0.8em; letter-spacing: 1px\">\n",
       "        <textPath xlink:href=\"#arrow-a3cdcd13f1114c4abfe99b0dfa9ec0ce-0-15\" class=\"displacy-label\" startOffset=\"50%\" side=\"left\" fill=\"currentColor\" text-anchor=\"middle\">det</textPath>\n",
       "    </text>\n",
       "    <path class=\"displacy-arrowhead\" d=\"M2870,266.5 L2862,254.5 2878,254.5\" fill=\"currentColor\"/>\n",
       "</g>\n",
       "\n",
       "<g class=\"displacy-arrow\">\n",
       "    <path class=\"displacy-arc\" id=\"arrow-a3cdcd13f1114c4abfe99b0dfa9ec0ce-0-16\" stroke-width=\"2px\" d=\"M2695,264.5 C2695,89.5 3020.0,89.5 3020.0,264.5\" fill=\"none\" stroke=\"currentColor\"/>\n",
       "    <text dy=\"1.25em\" style=\"font-size: 0.8em; letter-spacing: 1px\">\n",
       "        <textPath xlink:href=\"#arrow-a3cdcd13f1114c4abfe99b0dfa9ec0ce-0-16\" class=\"displacy-label\" startOffset=\"50%\" side=\"left\" fill=\"currentColor\" text-anchor=\"middle\">obj</textPath>\n",
       "    </text>\n",
       "    <path class=\"displacy-arrowhead\" d=\"M3020.0,266.5 L3028.0,254.5 3012.0,254.5\" fill=\"currentColor\"/>\n",
       "</g>\n",
       "\n",
       "<g class=\"displacy-arrow\">\n",
       "    <path class=\"displacy-arc\" id=\"arrow-a3cdcd13f1114c4abfe99b0dfa9ec0ce-0-17\" stroke-width=\"2px\" d=\"M3220,264.5 C3220,177.0 3365.0,177.0 3365.0,264.5\" fill=\"none\" stroke=\"currentColor\"/>\n",
       "    <text dy=\"1.25em\" style=\"font-size: 0.8em; letter-spacing: 1px\">\n",
       "        <textPath xlink:href=\"#arrow-a3cdcd13f1114c4abfe99b0dfa9ec0ce-0-17\" class=\"displacy-label\" startOffset=\"50%\" side=\"left\" fill=\"currentColor\" text-anchor=\"middle\">case</textPath>\n",
       "    </text>\n",
       "    <path class=\"displacy-arrowhead\" d=\"M3220,266.5 L3212,254.5 3228,254.5\" fill=\"currentColor\"/>\n",
       "</g>\n",
       "\n",
       "<g class=\"displacy-arrow\">\n",
       "    <path class=\"displacy-arc\" id=\"arrow-a3cdcd13f1114c4abfe99b0dfa9ec0ce-0-18\" stroke-width=\"2px\" d=\"M3045,264.5 C3045,89.5 3370.0,89.5 3370.0,264.5\" fill=\"none\" stroke=\"currentColor\"/>\n",
       "    <text dy=\"1.25em\" style=\"font-size: 0.8em; letter-spacing: 1px\">\n",
       "        <textPath xlink:href=\"#arrow-a3cdcd13f1114c4abfe99b0dfa9ec0ce-0-18\" class=\"displacy-label\" startOffset=\"50%\" side=\"left\" fill=\"currentColor\" text-anchor=\"middle\">nmod</textPath>\n",
       "    </text>\n",
       "    <path class=\"displacy-arrowhead\" d=\"M3370.0,266.5 L3378.0,254.5 3362.0,254.5\" fill=\"currentColor\"/>\n",
       "</g>\n",
       "\n",
       "<g class=\"displacy-arrow\">\n",
       "    <path class=\"displacy-arc\" id=\"arrow-a3cdcd13f1114c4abfe99b0dfa9ec0ce-0-19\" stroke-width=\"2px\" d=\"M3570,264.5 C3570,89.5 3895.0,89.5 3895.0,264.5\" fill=\"none\" stroke=\"currentColor\"/>\n",
       "    <text dy=\"1.25em\" style=\"font-size: 0.8em; letter-spacing: 1px\">\n",
       "        <textPath xlink:href=\"#arrow-a3cdcd13f1114c4abfe99b0dfa9ec0ce-0-19\" class=\"displacy-label\" startOffset=\"50%\" side=\"left\" fill=\"currentColor\" text-anchor=\"middle\">nsubj</textPath>\n",
       "    </text>\n",
       "    <path class=\"displacy-arrowhead\" d=\"M3570,266.5 L3562,254.5 3578,254.5\" fill=\"currentColor\"/>\n",
       "</g>\n",
       "\n",
       "<g class=\"displacy-arrow\">\n",
       "    <path class=\"displacy-arc\" id=\"arrow-a3cdcd13f1114c4abfe99b0dfa9ec0ce-0-20\" stroke-width=\"2px\" d=\"M3745,264.5 C3745,177.0 3890.0,177.0 3890.0,264.5\" fill=\"none\" stroke=\"currentColor\"/>\n",
       "    <text dy=\"1.25em\" style=\"font-size: 0.8em; letter-spacing: 1px\">\n",
       "        <textPath xlink:href=\"#arrow-a3cdcd13f1114c4abfe99b0dfa9ec0ce-0-20\" class=\"displacy-label\" startOffset=\"50%\" side=\"left\" fill=\"currentColor\" text-anchor=\"middle\">obj</textPath>\n",
       "    </text>\n",
       "    <path class=\"displacy-arrowhead\" d=\"M3745,266.5 L3737,254.5 3753,254.5\" fill=\"currentColor\"/>\n",
       "</g>\n",
       "\n",
       "<g class=\"displacy-arrow\">\n",
       "    <path class=\"displacy-arc\" id=\"arrow-a3cdcd13f1114c4abfe99b0dfa9ec0ce-0-21\" stroke-width=\"2px\" d=\"M3395,264.5 C3395,2.0 3900.0,2.0 3900.0,264.5\" fill=\"none\" stroke=\"currentColor\"/>\n",
       "    <text dy=\"1.25em\" style=\"font-size: 0.8em; letter-spacing: 1px\">\n",
       "        <textPath xlink:href=\"#arrow-a3cdcd13f1114c4abfe99b0dfa9ec0ce-0-21\" class=\"displacy-label\" startOffset=\"50%\" side=\"left\" fill=\"currentColor\" text-anchor=\"middle\">acl:relcl</textPath>\n",
       "    </text>\n",
       "    <path class=\"displacy-arrowhead\" d=\"M3900.0,266.5 L3908.0,254.5 3892.0,254.5\" fill=\"currentColor\"/>\n",
       "</g>\n",
       "</svg></span>"
      ],
      "text/plain": [
       "<IPython.core.display.HTML object>"
      ]
     },
     "metadata": {},
     "output_type": "display_data"
    }
   ],
   "source": [
    "displacy.render(doc, style='dep')"
   ]
  },
  {
   "cell_type": "markdown",
   "metadata": {},
   "source": [
    "Exos"
   ]
  },
  {
   "cell_type": "code",
   "execution_count": null,
   "metadata": {},
   "outputs": [],
   "source": [
    "# Analysez avec SpaCy les phrases du conte Le Joueur de flûte de Hamelin. \n",
    "# a. Combient y a-t-il de mots ?\n",
    "# b. Quelle est la phrase la plus longue ?\n",
    "# c. Quelle est la longueur moyenne de phrases?\n",
    "# d. Quel est le mot le plus longue ?\n",
    "# e. Combient y a-t-il de verbes ?\n",
    "# f. Plottez avec un barplot les dix mots les plus fréquents."
   ]
  },
  {
   "cell_type": "code",
   "execution_count": null,
   "metadata": {},
   "outputs": [],
   "source": [
    "# Encore à vous...\n",
    "# a. Quelle est la distribution de dépendances à gauche et à droite?\n",
    "# b. Quelles sont les dépendances qui, dans au moins 60 % des cas, vont à gauche ? \n",
    "# c. Quel est le nombre maximal de dépendants pour un nœud ?\n",
    "# d. Y a-t-il des dépendances non projectives ?"
   ]
  }
 ],
 "metadata": {
  "kernelspec": {
   "display_name": "Python 3 (ipykernel)",
   "language": "python",
   "name": "python3"
  },
  "language_info": {
   "codemirror_mode": {
    "name": "ipython",
    "version": 3
   },
   "file_extension": ".py",
   "mimetype": "text/x-python",
   "name": "python",
   "nbconvert_exporter": "python",
   "pygments_lexer": "ipython3",
   "version": "3.10.12"
  }
 },
 "nbformat": 4,
 "nbformat_minor": 4
}
