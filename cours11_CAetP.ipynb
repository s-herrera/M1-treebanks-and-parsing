{
 "cells": [
  {
   "cell_type": "markdown",
   "metadata": {},
   "source": [
    "# Corpus arborés et parsing - 2024/25"
   ]
  },
  {
   "cell_type": "code",
   "execution_count": 252,
   "metadata": {},
   "outputs": [
    {
     "name": "stdout",
     "output_type": "stream",
     "text": [
      "/home/santiago/data-backup/misc/M1-treebanks-and-parsing/.venv\n",
      "/home/santiago/data-backup/misc/M1-treebanks-and-parsing/.venv/bin/python\n",
      "/home/santiago/data-backup/misc/M1-treebanks-and-parsing/.venv/bin/pip\n"
     ]
    }
   ],
   "source": [
    "# Checking the environment\n",
    "!echo $VIRTUAL_ENV\n",
    "# and...\n",
    "!which python\n",
    "!which pip"
   ]
  },
  {
   "cell_type": "code",
   "execution_count": 253,
   "metadata": {},
   "outputs": [
    {
     "name": "stdout",
     "output_type": "stream",
     "text": [
      "Collecting fr-core-news-sm==3.8.0\n",
      "  Downloading https://github.com/explosion/spacy-models/releases/download/fr_core_news_sm-3.8.0/fr_core_news_sm-3.8.0-py3-none-any.whl (16.3 MB)\n",
      "\u001b[2K     \u001b[90m━━━━━━━━━━━━━━━━━━━━━━━━━━━━━━━━━━━━━━━━\u001b[0m \u001b[32m16.3/16.3 MB\u001b[0m \u001b[31m36.6 MB/s\u001b[0m eta \u001b[36m0:00:00\u001b[0m00:01\u001b[0m00:01\u001b[0m\n",
      "\u001b[38;5;2m✔ Download and installation successful\u001b[0m\n",
      "You can now load the package via spacy.load('fr_core_news_sm')\n"
     ]
    }
   ],
   "source": [
    "# install spacy model\n",
    "# https://spacy.io/usage\n",
    "!python3 -m spacy download fr_core_news_sm\n",
    "!pip install spacy seaborn\n",
    "# ou python au lieu de python3"
   ]
  },
  {
   "cell_type": "code",
   "execution_count": 254,
   "metadata": {},
   "outputs": [
    {
     "data": {
      "text/plain": [
       "['# global.columns = ID FORM LEMMA UPOS XPOS FEATS HEAD DEPREL DEPS MISC\\n',\n",
       " '# sent_id = frwiki_50.1000_00001\\n',\n",
       " '# text = Affaire des caporaux de Souain\\n',\n",
       " '1\\tAffaire\\taffaire\\tNOUN\\t_\\tGender=Fem|Number=Sing\\t0\\troot\\t_\\t_\\n',\n",
       " '2-3\\tdes\\t_\\t_\\t_\\t_\\t_\\t_\\t_\\t_\\n',\n",
       " '2\\tde\\tde\\tADP\\t_\\t_\\t1\\tudep\\t_\\t_\\n',\n",
       " '3\\tles\\tle\\tDET\\t_\\tDefinite=Def|Number=Plur|PronType=Art\\t4\\tdet\\t_\\t_\\n',\n",
       " '4\\tcaporaux\\tcaporal\\tNOUN\\t_\\tGender=Masc|Number=Plur\\t2\\tcomp:obj\\t_\\t_\\n',\n",
       " '5\\tde\\tde\\tADP\\t_\\t_\\t4\\tudep\\t_\\t_\\n',\n",
       " '6\\tSouain\\tSouain\\tPROPN\\t_\\t_\\t5\\tcomp:obj\\t_\\t_\\n',\n",
       " '\\n',\n",
       " '# sent_id = frwiki_50.1000_00002\\n',\n",
       " \"# text = L'affaire des caporaux de Souain, fusillés pour l'exemple, est un des cas parmi les plus flagrants et les plus médiatisés de l'injustice militaire durant la Première Guerre mondiale.\\n\",\n",
       " \"1\\tL'\\tle\\tDET\\t_\\tDefinite=Def|Number=Sing|PronType=Art\\t2\\tdet\\t_\\tSpaceAfter=No\\n\",\n",
       " '2\\taffaire\\taffaire\\tNOUN\\t_\\tGender=Fem|Number=Sing\\t14\\tsubj\\t_\\t_\\n',\n",
       " '3-4\\tdes\\t_\\t_\\t_\\t_\\t_\\t_\\t_\\t_\\n',\n",
       " '3\\tde\\tde\\tADP\\t_\\t_\\t2\\tudep\\t_\\t_\\n',\n",
       " '4\\tles\\tle\\tDET\\t_\\tDefinite=Def|Number=Plur|PronType=Art\\t5\\tdet\\t_\\t_\\n',\n",
       " '5\\tcaporaux\\tcaporal\\tNOUN\\t_\\tGender=Masc|Number=Plur\\t3\\tcomp:obj\\t_\\t_\\n',\n",
       " '6\\tde\\tde\\tADP\\t_\\t_\\t5\\tudep\\t_\\t_\\n']"
      ]
     },
     "execution_count": 254,
     "metadata": {},
     "output_type": "execute_result"
    }
   ],
   "source": [
    "with open(\"frwiki_50.1000.conllu\") as file: #file is a TextIOWrapper object.\n",
    "    data1 = file.readlines() # liste de lignes\n",
    "    #data = file.read() # chaîne de caractères\n",
    "    # for line in file:\n",
    "    #     print(line)\n",
    "\n",
    "data1[:20]\n",
    "# data[-20:]"
   ]
  },
  {
   "cell_type": "markdown",
   "metadata": {},
   "source": [
    "De nombreuses façons de compter les phrases"
   ]
  },
  {
   "cell_type": "code",
   "execution_count": 255,
   "metadata": {},
   "outputs": [
    {
     "name": "stdout",
     "output_type": "stream",
     "text": [
      "n_sentences_A=996\n"
     ]
    }
   ],
   "source": [
    "# Si le conllu est bien formaté, on peut faire\n",
    "n_sentences_A = data1.count(\"\\n\")\n",
    "print(f\"{n_sentences_A=}\")"
   ]
  },
  {
   "cell_type": "code",
   "execution_count": 256,
   "metadata": {},
   "outputs": [
    {
     "name": "stdout",
     "output_type": "stream",
     "text": [
      "n_sentences_B=996\n"
     ]
    }
   ],
   "source": [
    "# Mais ce n'est pas du toujours le cas, alors...\n",
    "n_sentences_B = 0\n",
    "for line in data1:\n",
    "    if line.startswith(\"# sent_id\"):\n",
    "        n_sentences_B += 1\n",
    "print(f\"{n_sentences_B=}\")"
   ]
  },
  {
   "cell_type": "code",
   "execution_count": 257,
   "metadata": {},
   "outputs": [
    {
     "name": "stdout",
     "output_type": "stream",
     "text": [
      "['# sent_id = frwiki_50.1000_00001\\n', '# text = Affaire des caporaux de Souain\\n', '1\\tAffaire\\taffaire\\tNOUN\\t_\\tGender=Fem|Number=Sing\\t0\\troot\\t_\\t_\\n', '2-3\\tdes\\t_\\t_\\t_\\t_\\t_\\t_\\t_\\t_\\n', '2\\tde\\tde\\tADP\\t_\\t_\\t1\\tudep\\t_\\t_\\n', '3\\tles\\tle\\tDET\\t_\\tDefinite=Def|Number=Plur|PronType=Art\\t4\\tdet\\t_\\t_\\n', '4\\tcaporaux\\tcaporal\\tNOUN\\t_\\tGender=Masc|Number=Plur\\t2\\tcomp:obj\\t_\\t_\\n', '5\\tde\\tde\\tADP\\t_\\t_\\t4\\tudep\\t_\\t_\\n', '6\\tSouain\\tSouain\\tPROPN\\t_\\t_\\t5\\tcomp:obj\\t_\\t_\\n']\n",
      "n_sentences_C=996\n"
     ]
    }
   ],
   "source": [
    "# On peut séparer les phrases depuis le début\n",
    "\n",
    "def read_conllu(path):\n",
    "    \"\"\"\n",
    "    Transformer le fichier conllu dans une liste de listes.\n",
    "    Chaque liste est une phrase, chaque élément est une ligne.\n",
    "    \"\"\"\n",
    "    data = []\n",
    "    with open(path, encoding=\"utf-8\") as in_stream:\n",
    "        next(in_stream)\n",
    "        sent = []\n",
    "        for line in in_stream:\n",
    "            if line == \"\\n\":\n",
    "                data.append(sent)\n",
    "                sent = []\n",
    "            else:\n",
    "                sent.append(line)\n",
    "    return data\n",
    "\n",
    "path = \"frwiki_50.1000.conllu\"\n",
    "data2 = read_conllu(path)\n",
    "\n",
    "for lst in data2[:1]:\n",
    "    print(lst)\n",
    "\n",
    "n_sentences_C = len(data2)\n",
    "print(f\"{n_sentences_C=}\")"
   ]
  },
  {
   "cell_type": "code",
   "execution_count": 258,
   "metadata": {},
   "outputs": [],
   "source": [
    "# On peut vérifier les résultats, même si dans ce cas c'est inutile\n",
    "assert  n_sentences_A == n_sentences_B and n_sentences_B == n_sentences_C"
   ]
  },
  {
   "cell_type": "markdown",
   "metadata": {},
   "source": [
    "Un dictionnaire est peut-être la meilleure façon de stocker chaque phrase"
   ]
  },
  {
   "cell_type": "code",
   "execution_count": 259,
   "metadata": {},
   "outputs": [
    {
     "data": {
      "text/plain": [
       "[{'idx': '1',\n",
       "  'form': 'Affaire',\n",
       "  'lemma': 'affaire',\n",
       "  'upos': 'NOUN',\n",
       "  'head': '0',\n",
       "  'deprel': 'root'},\n",
       " {'idx': '2',\n",
       "  'form': 'de',\n",
       "  'lemma': 'de',\n",
       "  'upos': 'ADP',\n",
       "  'head': '1',\n",
       "  'deprel': 'udep'},\n",
       " {'idx': '3',\n",
       "  'form': 'les',\n",
       "  'lemma': 'le',\n",
       "  'upos': 'DET',\n",
       "  'head': '4',\n",
       "  'deprel': 'det'},\n",
       " {'idx': '4',\n",
       "  'form': 'caporaux',\n",
       "  'lemma': 'caporal',\n",
       "  'upos': 'NOUN',\n",
       "  'head': '2',\n",
       "  'deprel': 'comp:obj'},\n",
       " {'idx': '5',\n",
       "  'form': 'de',\n",
       "  'lemma': 'de',\n",
       "  'upos': 'ADP',\n",
       "  'head': '4',\n",
       "  'deprel': 'udep'},\n",
       " {'idx': '6',\n",
       "  'form': 'Souain',\n",
       "  'lemma': 'Souain',\n",
       "  'upos': 'PROPN',\n",
       "  'head': '5',\n",
       "  'deprel': 'comp:obj'}]"
      ]
     },
     "execution_count": 259,
     "metadata": {},
     "output_type": "execute_result"
    }
   ],
   "source": [
    "# D'autres informations importantes, telles que les métadonnées et les caractéristiques, ne sont pas prises en compte.\n",
    "\n",
    "def read_conllu(path) :\n",
    "    \"\"\"\n",
    "    Transformer le fichier conllu dans une liste de liste.\n",
    "    Chaque liste est une phrase, chaque token est un dictionnaire.\n",
    "    Certains informations importantes, telles que les métadonnées et les caractéristiques, ne sont pas prises en compte.\n",
    "    \"\"\"\n",
    "    data = []\n",
    "\n",
    "    with open(path, encoding=\"utf-8\") as in_stream:\n",
    "        sent = []\n",
    "        for line in in_stream:\n",
    "            line = line.strip()\n",
    "            columns = line.split(\"\\t\")\n",
    "\n",
    "            if columns[0].startswith(\"#\"):\n",
    "                continue\n",
    "            if \"-\" in columns[0]:\n",
    "                continue\n",
    "            if columns[0]: # càd, s'il n'est pas vide\n",
    "                sent.append({\n",
    "                    \"idx\" : columns[0],\n",
    "                    \"form\" : columns[1],\n",
    "                    \"lemma\" : columns[2],\n",
    "                    \"upos\" : columns[3],\n",
    "                    \"head\" : columns[6],\n",
    "                    \"deprel\" : columns[7]})\n",
    "            else:\n",
    "                data.append(sent)\n",
    "                sent = []\n",
    "\n",
    "    return data\n",
    "\n",
    "path = \"frwiki_50.1000.conllu\"\n",
    "data = read_conllu(path)\n",
    "data[0]"
   ]
  },
  {
   "cell_type": "markdown",
   "metadata": {},
   "source": [
    "Compter le nombre des tokens et des lemmes"
   ]
  },
  {
   "cell_type": "code",
   "execution_count": 260,
   "metadata": {},
   "outputs": [
    {
     "name": "stdout",
     "output_type": "stream",
     "text": [
      "23127\n"
     ]
    }
   ],
   "source": [
    "# Nombre de tokens\n",
    "n_tokens = 0\n",
    "for sentence in data:\n",
    "    n_tokens += len(sentence)\n",
    "print(n_tokens)"
   ]
  },
  {
   "cell_type": "code",
   "execution_count": 261,
   "metadata": {},
   "outputs": [
    {
     "data": {
      "text/plain": [
       "23.21987951807229"
      ]
     },
     "execution_count": 261,
     "metadata": {},
     "output_type": "execute_result"
    }
   ],
   "source": [
    "# 🚧 Quelle est la longueur moyenne d'une phrase dans le corpus ?\n",
    "n_tokens / len(data)"
   ]
  },
  {
   "cell_type": "code",
   "execution_count": 262,
   "metadata": {},
   "outputs": [
    {
     "name": "stdout",
     "output_type": "stream",
     "text": [
      "len(uniq_tokens)=4583\n"
     ]
    }
   ],
   "source": [
    "# Combien y a-t-il de tokens différents ?\n",
    "uniq_tokens = set()\n",
    "for sentence in data:\n",
    "    for tk in sentence:\n",
    "        uniq_tokens.add(tk['form'])\n",
    "\n",
    "print(f\"{len(uniq_tokens)=}\")"
   ]
  },
  {
   "cell_type": "code",
   "execution_count": 263,
   "metadata": {},
   "outputs": [
    {
     "name": "stdout",
     "output_type": "stream",
     "text": [
      "len(uniq_lemma)=3437\n"
     ]
    }
   ],
   "source": [
    "# Combien y a-t-il de lemmes différents ?\n",
    "uniq_lemma = set()\n",
    "for sentence in data:\n",
    "    for lemma in sentence:\n",
    "        uniq_lemma.add(lemma['lemma'])\n",
    "\n",
    "print(f\"{len(uniq_lemma)=}\")"
   ]
  },
  {
   "cell_type": "code",
   "execution_count": 264,
   "metadata": {},
   "outputs": [
    {
     "name": "stdout",
     "output_type": "stream",
     "text": [
      "len(uniq_lemmas)=3437\n"
     ]
    }
   ],
   "source": [
    "# Combien y a-t-il de lemmes différents ? Réponse avec une liste en compréhension  \n",
    "uniq_lemmas = set([tk['lemma'] for sentence in data for tk in sentence])\n",
    "print(f\"{len(uniq_lemmas)=}\")"
   ]
  },
  {
   "cell_type": "markdown",
   "metadata": {},
   "source": [
    "Maintenant, les compter pour de vrai"
   ]
  },
  {
   "cell_type": "code",
   "execution_count": 265,
   "metadata": {},
   "outputs": [
    {
     "data": {
      "text/plain": [
       "[('le', 2474), ('de', 2048), ('à', 519), ('un', 472), ('et', 387)]"
      ]
     },
     "execution_count": 265,
     "metadata": {},
     "output_type": "execute_result"
    }
   ],
   "source": [
    "# Récupérer la liste de tous tokens\n",
    "\n",
    "lemmas = []\n",
    "for sentence in data:\n",
    "    for tk in sentence:\n",
    "        if tk['upos'] != \"PUNCT\":\n",
    "            lemmas.append(tk['lemma'])\n",
    "\n",
    "# Avec une liste en compréhension  \n",
    "#tokens = [tk['token'] for sentence in data for tk in sentence]\n",
    "\n",
    "counter = dict()\n",
    "for l in lemmas:\n",
    "    if l in counter:\n",
    "        counter[l] += 1\n",
    "    else:\n",
    "        counter[l] = 1\n",
    "\n",
    "# On ordonne le dictionnaire et on obtient une liste de tuples ordonnés\n",
    "sorted_lemmas = sorted(counter.items(), key=lambda item : item[1], reverse=True)\n",
    "sorted_lemmas[:5]"
   ]
  },
  {
   "cell_type": "code",
   "execution_count": 266,
   "metadata": {},
   "outputs": [
    {
     "data": {
      "text/plain": [
       "[('le', 2474), ('de', 2048), ('à', 519), ('un', 472), ('et', 387)]"
      ]
     },
     "execution_count": 266,
     "metadata": {},
     "output_type": "execute_result"
    }
   ],
   "source": [
    "# Avec la meilleure bibliothèque de Python\n",
    "from collections import Counter\n",
    "\n",
    "counter = Counter(lemmas)\n",
    "sorted_lemmas = sorted(counter.items(), key=lambda item : item[1], reverse=True)\n",
    "sorted_lemmas[:5]"
   ]
  },
  {
   "cell_type": "code",
   "execution_count": 267,
   "metadata": {},
   "outputs": [
    {
     "name": "stdout",
     "output_type": "stream",
     "text": [
      "Requirement already satisfied: seaborn in ./.venv/lib/python3.10/site-packages (0.13.2)\n",
      "Requirement already satisfied: numpy!=1.24.0,>=1.20 in ./.venv/lib/python3.10/site-packages (from seaborn) (2.0.2)\n",
      "Requirement already satisfied: pandas>=1.2 in ./.venv/lib/python3.10/site-packages (from seaborn) (2.2.3)\n",
      "Requirement already satisfied: matplotlib!=3.6.1,>=3.4 in ./.venv/lib/python3.10/site-packages (from seaborn) (3.9.3)\n",
      "Requirement already satisfied: cycler>=0.10 in ./.venv/lib/python3.10/site-packages (from matplotlib!=3.6.1,>=3.4->seaborn) (0.12.1)\n",
      "Requirement already satisfied: packaging>=20.0 in ./.venv/lib/python3.10/site-packages (from matplotlib!=3.6.1,>=3.4->seaborn) (24.2)\n",
      "Requirement already satisfied: pillow>=8 in ./.venv/lib/python3.10/site-packages (from matplotlib!=3.6.1,>=3.4->seaborn) (11.0.0)\n",
      "Requirement already satisfied: fonttools>=4.22.0 in ./.venv/lib/python3.10/site-packages (from matplotlib!=3.6.1,>=3.4->seaborn) (4.55.2)\n",
      "Requirement already satisfied: pyparsing>=2.3.1 in ./.venv/lib/python3.10/site-packages (from matplotlib!=3.6.1,>=3.4->seaborn) (3.2.0)\n",
      "Requirement already satisfied: kiwisolver>=1.3.1 in ./.venv/lib/python3.10/site-packages (from matplotlib!=3.6.1,>=3.4->seaborn) (1.4.7)\n",
      "Requirement already satisfied: python-dateutil>=2.7 in ./.venv/lib/python3.10/site-packages (from matplotlib!=3.6.1,>=3.4->seaborn) (2.9.0.post0)\n",
      "Requirement already satisfied: contourpy>=1.0.1 in ./.venv/lib/python3.10/site-packages (from matplotlib!=3.6.1,>=3.4->seaborn) (1.3.1)\n",
      "Requirement already satisfied: tzdata>=2022.7 in ./.venv/lib/python3.10/site-packages (from pandas>=1.2->seaborn) (2024.2)\n",
      "Requirement already satisfied: pytz>=2020.1 in ./.venv/lib/python3.10/site-packages (from pandas>=1.2->seaborn) (2024.2)\n",
      "Requirement already satisfied: six>=1.5 in ./.venv/lib/python3.10/site-packages (from python-dateutil>=2.7->matplotlib!=3.6.1,>=3.4->seaborn) (1.17.0)\n"
     ]
    }
   ],
   "source": [
    "!pip install seaborn"
   ]
  },
  {
   "cell_type": "code",
   "execution_count": 268,
   "metadata": {},
   "outputs": [
    {
     "data": {
      "text/plain": [
       "<Axes: >"
      ]
     },
     "execution_count": 268,
     "metadata": {},
     "output_type": "execute_result"
    },
    {
     "data": {
      "image/png": "[encoded data removed]",
      "text/plain": [
       "<Figure size 640x480 with 1 Axes>"
      ]
     },
     "metadata": {},
     "output_type": "display_data"
    }
   ],
   "source": [
    "import seaborn as sns\n",
    "\n",
    "freq = []\n",
    "labels = []\n",
    "for lemma in sorted_lemmas[:20]:\n",
    "    freq.append(lemma[0])\n",
    "    labels.append(lemma[1])\n",
    "\n",
    "sns.barplot(x=freq, y=labels)"
   ]
  },
  {
   "cell_type": "code",
   "execution_count": 279,
   "metadata": {},
   "outputs": [
    {
     "data": {
      "text/plain": [
       "<Axes: >"
      ]
     },
     "execution_count": 279,
     "metadata": {},
     "output_type": "execute_result"
    },
    {
     "data": {
      "image/png": "[encoded data removed]",
      "text/plain": [
       "<Figure size 640x480 with 1 Axes>"
      ]
     },
     "metadata": {},
     "output_type": "display_data"
    }
   ],
   "source": [
    "# Représentez graphiquement tous les noms et leur fréquence avec un barplot\n",
    "nouns = []\n",
    "for sentence in data:\n",
    "    for tk in sentence:\n",
    "        if tk['upos'] == \"NOUN\":\n",
    "            nouns.append(tk['lemma'])\n",
    "\n",
    "counter_nouns = sorted(Counter(nouns).items(), key = lambda x: x[1], reverse=True)\n",
    "freq = []\n",
    "labels = []\n",
    "for lemma in counter_nouns[:10]:\n",
    "    freq.append(lemma[0])\n",
    "    labels.append(lemma[1])\n",
    "\n",
    "sns.barplot(x=freq, y=labels)"
   ]
  },
  {
   "cell_type": "code",
   "execution_count": 274,
   "metadata": {},
   "outputs": [
    {
     "data": {
      "text/plain": [
       "<Axes: >"
      ]
     },
     "execution_count": 274,
     "metadata": {},
     "output_type": "execute_result"
    },
    {
     "data": {
      "image/png": "[encoded data removed]",
      "text/plain": [
       "<Figure size 640x480 with 1 Axes>"
      ]
     },
     "metadata": {},
     "output_type": "display_data"
    }
   ],
   "source": [
    "# Représentez la distribution de partie du discours avec un barplot\n",
    "pos = []\n",
    "for sentence in data:\n",
    "    for tk in sentence:\n",
    "        pos.append(tk['upos'])\n",
    "\n",
    "counter_upos = sorted(Counter(pos).items(), key = lambda x: x[1], reverse=True)\n",
    "freq = []\n",
    "labels = []\n",
    "for pos in counter_upos[:10]:\n",
    "    freq.append(pos[0])\n",
    "    labels.append(pos[1])\n",
    "\n",
    "sns.barplot(x=freq, y=labels)"
   ]
  },
  {
   "cell_type": "code",
   "execution_count": 271,
   "metadata": {},
   "outputs": [],
   "source": [
    "# Combien y a-t-il des adjectifs avant et après leur nom?\n",
    "\n",
    "adj_position = {\"before\" : 0, \"after\": 0}\n",
    "\n",
    "# for sentence in data:\n",
    "#     for token_i in sentence:\n",
    "#         if token_i['upos'] == \"NOUN\":\n",
    "#             for token_j in sentence:\n",
    "                # À compléter, réponse en bas..."
   ]
  },
  {
   "cell_type": "code",
   "execution_count": 272,
   "metadata": {},
   "outputs": [
    {
     "data": {
      "text/plain": [
       "<Axes: >"
      ]
     },
     "execution_count": 272,
     "metadata": {},
     "output_type": "execute_result"
    },
    {
     "data": {
      "image/png": "[encoded data removed]",
      "text/plain": [
       "<Figure size 640x480 with 1 Axes>"
      ]
     },
     "metadata": {},
     "output_type": "display_data"
    }
   ],
   "source": [
    "adj_position = {\"before\" : 0, \"after\": 0}\n",
    "\n",
    "for sentence in data:\n",
    "    for token_i in sentence:\n",
    "        if token_i['upos'] == \"NOUN\":\n",
    "            for token_j in sentence:\n",
    "                if token_j['head'] == token_i['idx'] and token_j['upos'] == \"ADJ\":\n",
    "                    if int(token_i['idx']) < int(token_j['idx']):\n",
    "                        adj_position['after'] += 1\n",
    "                    else:\n",
    "                        adj_position['before'] += 1\n",
    "\n",
    "sns.barplot(adj_position)"
   ]
  },
  {
   "cell_type": "markdown",
   "metadata": {},
   "source": [
    "## Partie 2"
   ]
  },
  {
   "cell_type": "markdown",
   "metadata": {},
   "source": [
    "Et si je veux tagger et analyser syntaxiquement un texte ?"
   ]
  },
  {
   "cell_type": "code",
   "execution_count": 273,
   "metadata": {},
   "outputs": [
    {
     "data": {
      "text/plain": [
       "['Alors que la ville de Hamelin est envahie par les rats et que les habitants meurent de faim, un joueur de flûte inconnu arrive dans la ville et se présente comme un dératiseur',\n",
       " \"Le maire de Hamelin promet au joueur de flûte une prime de mille écus pour débarrasser la commune des rats qui l'infestent\",\n",
       " \"L'homme prend sa flûte et, par sa musique, attire les rats qui le suivent jusqu'à la Weser, la rivière qui arrose la ville, où ils se noient\"]"
      ]
     },
     "execution_count": 273,
     "metadata": {},
     "output_type": "execute_result"
    }
   ],
   "source": [
    "# Une segmentation très naive\n",
    "with open(\"conte.txt\", encoding=\"utf-8\") as file:\n",
    "    text = file.read()\n",
    "    \n",
    "#sentences = [sent.strip() for sent in text.split(\".\")]\n",
    "sentences = []\n",
    "for sent in text.split('.'):\n",
    "    sent_stripped = sent.strip()\n",
    "    if sent_stripped:\n",
    "        sentences.append(sent_stripped)\n",
    "sentences[:3]"
   ]
  },
  {
   "cell_type": "code",
   "execution_count": null,
   "metadata": {},
   "outputs": [],
   "source": [
    "# Encore mieux avec spaCy\n",
    "import spacy\n",
    "from spacy import displacy\n",
    "nlp = spacy.load(\"fr_core_news_sm\")\n",
    "# Je parse tout le text au même temps\n",
    "doc = nlp(text)"
   ]
  },
  {
   "cell_type": "code",
   "execution_count": null,
   "metadata": {},
   "outputs": [],
   "source": [
    "list(doc.sents)"
   ]
  },
  {
   "cell_type": "code",
   "execution_count": null,
   "metadata": {},
   "outputs": [],
   "source": [
    "for sent in doc.sents:\n",
    "    print(f\"la racine est {sent.root.text}\")\n",
    "    for token in sent:\n",
    "        print(token.text, token.pos_, token.morph, token.morph, token.lemma_, token.dep_)\n",
    "    \n",
    "    # pour trouver les enfants\n",
    "    for child in token.children:\n",
    "        print(token, child.text)\n",
    "\n",
    "# upos = [(token.text, token.pos_) for token in doc]\n",
    "# print(upos)"
   ]
  },
  {
   "cell_type": "code",
   "execution_count": null,
   "metadata": {},
   "outputs": [],
   "source": [
    "#dir(doc)"
   ]
  },
  {
   "cell_type": "code",
   "execution_count": null,
   "metadata": {},
   "outputs": [],
   "source": [
    "for token in list(doc.sents)[0][:3]:\n",
    "    print(f\"token : {token.text}\\t deprel : {token.dep_}\\t token_head : {token.head.text}\")"
   ]
  },
  {
   "cell_type": "code",
   "execution_count": null,
   "metadata": {},
   "outputs": [],
   "source": [
    "# Trouver les verbes avec un sujet    \n",
    "verbs = list()\n",
    "for possible_subject in doc:\n",
    "    if possible_subject.dep_ == \"nsubj\" and possible_subject.head.pos_ == \"VERB\":\n",
    "        verbs.append(possible_subject.head)\n",
    "print(verbs)"
   ]
  },
  {
   "cell_type": "code",
   "execution_count": null,
   "metadata": {},
   "outputs": [],
   "source": [
    "displacy.render(list(doc.sents)[0], style='dep')"
   ]
  },
  {
   "cell_type": "markdown",
   "metadata": {},
   "source": [
    "Exos"
   ]
  },
  {
   "cell_type": "code",
   "execution_count": null,
   "metadata": {},
   "outputs": [],
   "source": [
    "# Analysez avec SpaCy les phrases du conte Le Joueur de flûte de Hamelin. \n",
    "# a. Combient y a-t-il de mots ?\n",
    "# b. Quelle est la phrase la plus longue ?\n",
    "# c. Quelle est la longueur moyenne de phrases?\n",
    "# d. Quel est le mot le plus longue ?\n",
    "# e. Combient y a-t-il de verbes ?\n",
    "# f. Plottez avec un barplot les dix mots les plus fréquents."
   ]
  },
  {
   "cell_type": "code",
   "execution_count": null,
   "metadata": {},
   "outputs": [],
   "source": [
    "# Encore à vous...\n",
    "# a. Quelle est la distribution de dépendances à gauche et à droite? Check spaCy API https://spacy.io/api/token\n",
    "# b. Quelles sont les dépendances qui, dans au moins 90 % des cas, vont à gauche ? \n",
    "# c. Quel est le nombre maximal de dépendants pour un nœud ?\n",
    "# d. Y a-t-il des dépendances non projectives ?"
   ]
  }
 ],
 "metadata": {
  "kernelspec": {
   "display_name": "Python 3 (ipykernel)",
   "language": "python",
   "name": "python3"
  },
  "language_info": {
   "codemirror_mode": {
    "name": "ipython",
    "version": 3
   },
   "file_extension": ".py",
   "mimetype": "text/x-python",
   "name": "python",
   "nbconvert_exporter": "python",
   "pygments_lexer": "ipython3",
   "version": "3.10.12"
  }
 },
 "nbformat": 4,
 "nbformat_minor": 4
}
